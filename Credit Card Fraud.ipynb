{
 "cells": [
  {
   "cell_type": "code",
   "execution_count": 2,
   "id": "a656bee1",
   "metadata": {},
   "outputs": [],
   "source": [
    "import pandas as pd\n",
    "import numpy as np\n",
    "import datetime\n",
    "from sklearn.model_selection import train_test_split\n",
    "from sklearn.preprocessing import StandardScaler\n",
    "from sklearn.neighbors import KNeighborsClassifier\n",
    "from sklearn.metrics import classification_report,confusion_matrix\n",
    "from mpl_toolkits.mplot3d import Axes3D\n",
    "import matplotlib.pyplot as plt\n",
    "import seaborn as sns\n",
    "import os\n",
    "from dotenv import load_dotenv"
   ]
  },
  {
   "cell_type": "markdown",
   "id": "a7752bb5",
   "metadata": {},
   "source": [
    "# Data Import"
   ]
  },
  {
   "cell_type": "code",
   "execution_count": null,
   "id": "2abe0875",
   "metadata": {},
   "outputs": [],
   "source": [
    "#load_dotenv() # This reads the environment variables inside .env\n",
    "\n",
    "# AWS_ACCESS_KEY_ID = os.getenv('AWS_ACCESS_KEY_ID')\n",
    "# AWS_SECRET_ACCESS_KEY = os.getenv('AWS_SECRET_ACCESS_KEY')\n",
    "# REGION_NAME = os.getenv('REGION_NAME')\n",
    "# BUCKET = os.getenv('BUCKET')\n",
    "# FILENAME = os.getenv('FILENAME')\n",
    "# import boto3\n",
    "\n",
    "# s3 = boto3.client('s3',\n",
    "#                   aws_access_key_id=AWS_ACCESS_KEY_ID,\n",
    "#                   aws_secret_access_key=AWS_SECRET_ACCESS_KEY,\n",
    "#                   region_name=REGION_NAME)\n",
    "\n",
    "# import io\n",
    "\n",
    "# obj = s3.get_object(Bucket=BUCKET, Key=FILENAME)\n",
    "# data = io.BytesIO(obj['Body'].read())"
   ]
  },
  {
   "cell_type": "code",
   "execution_count": 3,
   "id": "70443c27",
   "metadata": {},
   "outputs": [
    {
     "name": "stdout",
     "output_type": "stream",
     "text": [
      "<class 'pandas.core.frame.DataFrame'>\n",
      "RangeIndex: 284807 entries, 0 to 284806\n",
      "Data columns (total 31 columns):\n",
      " #   Column  Non-Null Count   Dtype  \n",
      "---  ------  --------------   -----  \n",
      " 0   Time    284807 non-null  float64\n",
      " 1   V1      284807 non-null  float64\n",
      " 2   V2      284807 non-null  float64\n",
      " 3   V3      284807 non-null  float64\n",
      " 4   V4      284807 non-null  float64\n",
      " 5   V5      284807 non-null  float64\n",
      " 6   V6      284807 non-null  float64\n",
      " 7   V7      284807 non-null  float64\n",
      " 8   V8      284807 non-null  float64\n",
      " 9   V9      284807 non-null  float64\n",
      " 10  V10     284807 non-null  float64\n",
      " 11  V11     284807 non-null  float64\n",
      " 12  V12     284807 non-null  float64\n",
      " 13  V13     284807 non-null  float64\n",
      " 14  V14     284807 non-null  float64\n",
      " 15  V15     284807 non-null  float64\n",
      " 16  V16     284807 non-null  float64\n",
      " 17  V17     284807 non-null  float64\n",
      " 18  V18     284807 non-null  float64\n",
      " 19  V19     284807 non-null  float64\n",
      " 20  V20     284807 non-null  float64\n",
      " 21  V21     284807 non-null  float64\n",
      " 22  V22     284807 non-null  float64\n",
      " 23  V23     284807 non-null  float64\n",
      " 24  V24     284807 non-null  float64\n",
      " 25  V25     284807 non-null  float64\n",
      " 26  V26     284807 non-null  float64\n",
      " 27  V27     284807 non-null  float64\n",
      " 28  V28     284807 non-null  float64\n",
      " 29  Amount  284807 non-null  float64\n",
      " 30  Class   284807 non-null  int64  \n",
      "dtypes: float64(30), int64(1)\n",
      "memory usage: 67.4 MB\n"
     ]
    },
    {
     "data": {
      "text/html": [
       "<div>\n",
       "<style scoped>\n",
       "    .dataframe tbody tr th:only-of-type {\n",
       "        vertical-align: middle;\n",
       "    }\n",
       "\n",
       "    .dataframe tbody tr th {\n",
       "        vertical-align: top;\n",
       "    }\n",
       "\n",
       "    .dataframe thead th {\n",
       "        text-align: right;\n",
       "    }\n",
       "</style>\n",
       "<table border=\"1\" class=\"dataframe\">\n",
       "  <thead>\n",
       "    <tr style=\"text-align: right;\">\n",
       "      <th></th>\n",
       "      <th>Time</th>\n",
       "      <th>V1</th>\n",
       "      <th>V2</th>\n",
       "      <th>V3</th>\n",
       "      <th>V4</th>\n",
       "      <th>V5</th>\n",
       "      <th>V6</th>\n",
       "      <th>V7</th>\n",
       "      <th>V8</th>\n",
       "      <th>V9</th>\n",
       "      <th>...</th>\n",
       "      <th>V21</th>\n",
       "      <th>V22</th>\n",
       "      <th>V23</th>\n",
       "      <th>V24</th>\n",
       "      <th>V25</th>\n",
       "      <th>V26</th>\n",
       "      <th>V27</th>\n",
       "      <th>V28</th>\n",
       "      <th>Amount</th>\n",
       "      <th>Class</th>\n",
       "    </tr>\n",
       "  </thead>\n",
       "  <tbody>\n",
       "    <tr>\n",
       "      <th>count</th>\n",
       "      <td>284807.000000</td>\n",
       "      <td>2.848070e+05</td>\n",
       "      <td>2.848070e+05</td>\n",
       "      <td>2.848070e+05</td>\n",
       "      <td>2.848070e+05</td>\n",
       "      <td>2.848070e+05</td>\n",
       "      <td>2.848070e+05</td>\n",
       "      <td>2.848070e+05</td>\n",
       "      <td>2.848070e+05</td>\n",
       "      <td>2.848070e+05</td>\n",
       "      <td>...</td>\n",
       "      <td>2.848070e+05</td>\n",
       "      <td>2.848070e+05</td>\n",
       "      <td>2.848070e+05</td>\n",
       "      <td>2.848070e+05</td>\n",
       "      <td>2.848070e+05</td>\n",
       "      <td>2.848070e+05</td>\n",
       "      <td>2.848070e+05</td>\n",
       "      <td>2.848070e+05</td>\n",
       "      <td>284807.000000</td>\n",
       "      <td>284807.000000</td>\n",
       "    </tr>\n",
       "    <tr>\n",
       "      <th>mean</th>\n",
       "      <td>94813.859575</td>\n",
       "      <td>1.168375e-15</td>\n",
       "      <td>3.416908e-16</td>\n",
       "      <td>-1.379537e-15</td>\n",
       "      <td>2.074095e-15</td>\n",
       "      <td>9.604066e-16</td>\n",
       "      <td>1.487313e-15</td>\n",
       "      <td>-5.556467e-16</td>\n",
       "      <td>1.213481e-16</td>\n",
       "      <td>-2.406331e-15</td>\n",
       "      <td>...</td>\n",
       "      <td>1.654067e-16</td>\n",
       "      <td>-3.568593e-16</td>\n",
       "      <td>2.578648e-16</td>\n",
       "      <td>4.473266e-15</td>\n",
       "      <td>5.340915e-16</td>\n",
       "      <td>1.683437e-15</td>\n",
       "      <td>-3.660091e-16</td>\n",
       "      <td>-1.227390e-16</td>\n",
       "      <td>88.349619</td>\n",
       "      <td>0.001727</td>\n",
       "    </tr>\n",
       "    <tr>\n",
       "      <th>std</th>\n",
       "      <td>47488.145955</td>\n",
       "      <td>1.958696e+00</td>\n",
       "      <td>1.651309e+00</td>\n",
       "      <td>1.516255e+00</td>\n",
       "      <td>1.415869e+00</td>\n",
       "      <td>1.380247e+00</td>\n",
       "      <td>1.332271e+00</td>\n",
       "      <td>1.237094e+00</td>\n",
       "      <td>1.194353e+00</td>\n",
       "      <td>1.098632e+00</td>\n",
       "      <td>...</td>\n",
       "      <td>7.345240e-01</td>\n",
       "      <td>7.257016e-01</td>\n",
       "      <td>6.244603e-01</td>\n",
       "      <td>6.056471e-01</td>\n",
       "      <td>5.212781e-01</td>\n",
       "      <td>4.822270e-01</td>\n",
       "      <td>4.036325e-01</td>\n",
       "      <td>3.300833e-01</td>\n",
       "      <td>250.120109</td>\n",
       "      <td>0.041527</td>\n",
       "    </tr>\n",
       "    <tr>\n",
       "      <th>min</th>\n",
       "      <td>0.000000</td>\n",
       "      <td>-5.640751e+01</td>\n",
       "      <td>-7.271573e+01</td>\n",
       "      <td>-4.832559e+01</td>\n",
       "      <td>-5.683171e+00</td>\n",
       "      <td>-1.137433e+02</td>\n",
       "      <td>-2.616051e+01</td>\n",
       "      <td>-4.355724e+01</td>\n",
       "      <td>-7.321672e+01</td>\n",
       "      <td>-1.343407e+01</td>\n",
       "      <td>...</td>\n",
       "      <td>-3.483038e+01</td>\n",
       "      <td>-1.093314e+01</td>\n",
       "      <td>-4.480774e+01</td>\n",
       "      <td>-2.836627e+00</td>\n",
       "      <td>-1.029540e+01</td>\n",
       "      <td>-2.604551e+00</td>\n",
       "      <td>-2.256568e+01</td>\n",
       "      <td>-1.543008e+01</td>\n",
       "      <td>0.000000</td>\n",
       "      <td>0.000000</td>\n",
       "    </tr>\n",
       "    <tr>\n",
       "      <th>25%</th>\n",
       "      <td>54201.500000</td>\n",
       "      <td>-9.203734e-01</td>\n",
       "      <td>-5.985499e-01</td>\n",
       "      <td>-8.903648e-01</td>\n",
       "      <td>-8.486401e-01</td>\n",
       "      <td>-6.915971e-01</td>\n",
       "      <td>-7.682956e-01</td>\n",
       "      <td>-5.540759e-01</td>\n",
       "      <td>-2.086297e-01</td>\n",
       "      <td>-6.430976e-01</td>\n",
       "      <td>...</td>\n",
       "      <td>-2.283949e-01</td>\n",
       "      <td>-5.423504e-01</td>\n",
       "      <td>-1.618463e-01</td>\n",
       "      <td>-3.545861e-01</td>\n",
       "      <td>-3.171451e-01</td>\n",
       "      <td>-3.269839e-01</td>\n",
       "      <td>-7.083953e-02</td>\n",
       "      <td>-5.295979e-02</td>\n",
       "      <td>5.600000</td>\n",
       "      <td>0.000000</td>\n",
       "    </tr>\n",
       "    <tr>\n",
       "      <th>50%</th>\n",
       "      <td>84692.000000</td>\n",
       "      <td>1.810880e-02</td>\n",
       "      <td>6.548556e-02</td>\n",
       "      <td>1.798463e-01</td>\n",
       "      <td>-1.984653e-02</td>\n",
       "      <td>-5.433583e-02</td>\n",
       "      <td>-2.741871e-01</td>\n",
       "      <td>4.010308e-02</td>\n",
       "      <td>2.235804e-02</td>\n",
       "      <td>-5.142873e-02</td>\n",
       "      <td>...</td>\n",
       "      <td>-2.945017e-02</td>\n",
       "      <td>6.781943e-03</td>\n",
       "      <td>-1.119293e-02</td>\n",
       "      <td>4.097606e-02</td>\n",
       "      <td>1.659350e-02</td>\n",
       "      <td>-5.213911e-02</td>\n",
       "      <td>1.342146e-03</td>\n",
       "      <td>1.124383e-02</td>\n",
       "      <td>22.000000</td>\n",
       "      <td>0.000000</td>\n",
       "    </tr>\n",
       "    <tr>\n",
       "      <th>75%</th>\n",
       "      <td>139320.500000</td>\n",
       "      <td>1.315642e+00</td>\n",
       "      <td>8.037239e-01</td>\n",
       "      <td>1.027196e+00</td>\n",
       "      <td>7.433413e-01</td>\n",
       "      <td>6.119264e-01</td>\n",
       "      <td>3.985649e-01</td>\n",
       "      <td>5.704361e-01</td>\n",
       "      <td>3.273459e-01</td>\n",
       "      <td>5.971390e-01</td>\n",
       "      <td>...</td>\n",
       "      <td>1.863772e-01</td>\n",
       "      <td>5.285536e-01</td>\n",
       "      <td>1.476421e-01</td>\n",
       "      <td>4.395266e-01</td>\n",
       "      <td>3.507156e-01</td>\n",
       "      <td>2.409522e-01</td>\n",
       "      <td>9.104512e-02</td>\n",
       "      <td>7.827995e-02</td>\n",
       "      <td>77.165000</td>\n",
       "      <td>0.000000</td>\n",
       "    </tr>\n",
       "    <tr>\n",
       "      <th>max</th>\n",
       "      <td>172792.000000</td>\n",
       "      <td>2.454930e+00</td>\n",
       "      <td>2.205773e+01</td>\n",
       "      <td>9.382558e+00</td>\n",
       "      <td>1.687534e+01</td>\n",
       "      <td>3.480167e+01</td>\n",
       "      <td>7.330163e+01</td>\n",
       "      <td>1.205895e+02</td>\n",
       "      <td>2.000721e+01</td>\n",
       "      <td>1.559499e+01</td>\n",
       "      <td>...</td>\n",
       "      <td>2.720284e+01</td>\n",
       "      <td>1.050309e+01</td>\n",
       "      <td>2.252841e+01</td>\n",
       "      <td>4.584549e+00</td>\n",
       "      <td>7.519589e+00</td>\n",
       "      <td>3.517346e+00</td>\n",
       "      <td>3.161220e+01</td>\n",
       "      <td>3.384781e+01</td>\n",
       "      <td>25691.160000</td>\n",
       "      <td>1.000000</td>\n",
       "    </tr>\n",
       "  </tbody>\n",
       "</table>\n",
       "<p>8 rows × 31 columns</p>\n",
       "</div>"
      ],
      "text/plain": [
       "                Time            V1            V2            V3            V4  \\\n",
       "count  284807.000000  2.848070e+05  2.848070e+05  2.848070e+05  2.848070e+05   \n",
       "mean    94813.859575  1.168375e-15  3.416908e-16 -1.379537e-15  2.074095e-15   \n",
       "std     47488.145955  1.958696e+00  1.651309e+00  1.516255e+00  1.415869e+00   \n",
       "min         0.000000 -5.640751e+01 -7.271573e+01 -4.832559e+01 -5.683171e+00   \n",
       "25%     54201.500000 -9.203734e-01 -5.985499e-01 -8.903648e-01 -8.486401e-01   \n",
       "50%     84692.000000  1.810880e-02  6.548556e-02  1.798463e-01 -1.984653e-02   \n",
       "75%    139320.500000  1.315642e+00  8.037239e-01  1.027196e+00  7.433413e-01   \n",
       "max    172792.000000  2.454930e+00  2.205773e+01  9.382558e+00  1.687534e+01   \n",
       "\n",
       "                 V5            V6            V7            V8            V9  \\\n",
       "count  2.848070e+05  2.848070e+05  2.848070e+05  2.848070e+05  2.848070e+05   \n",
       "mean   9.604066e-16  1.487313e-15 -5.556467e-16  1.213481e-16 -2.406331e-15   \n",
       "std    1.380247e+00  1.332271e+00  1.237094e+00  1.194353e+00  1.098632e+00   \n",
       "min   -1.137433e+02 -2.616051e+01 -4.355724e+01 -7.321672e+01 -1.343407e+01   \n",
       "25%   -6.915971e-01 -7.682956e-01 -5.540759e-01 -2.086297e-01 -6.430976e-01   \n",
       "50%   -5.433583e-02 -2.741871e-01  4.010308e-02  2.235804e-02 -5.142873e-02   \n",
       "75%    6.119264e-01  3.985649e-01  5.704361e-01  3.273459e-01  5.971390e-01   \n",
       "max    3.480167e+01  7.330163e+01  1.205895e+02  2.000721e+01  1.559499e+01   \n",
       "\n",
       "       ...           V21           V22           V23           V24  \\\n",
       "count  ...  2.848070e+05  2.848070e+05  2.848070e+05  2.848070e+05   \n",
       "mean   ...  1.654067e-16 -3.568593e-16  2.578648e-16  4.473266e-15   \n",
       "std    ...  7.345240e-01  7.257016e-01  6.244603e-01  6.056471e-01   \n",
       "min    ... -3.483038e+01 -1.093314e+01 -4.480774e+01 -2.836627e+00   \n",
       "25%    ... -2.283949e-01 -5.423504e-01 -1.618463e-01 -3.545861e-01   \n",
       "50%    ... -2.945017e-02  6.781943e-03 -1.119293e-02  4.097606e-02   \n",
       "75%    ...  1.863772e-01  5.285536e-01  1.476421e-01  4.395266e-01   \n",
       "max    ...  2.720284e+01  1.050309e+01  2.252841e+01  4.584549e+00   \n",
       "\n",
       "                V25           V26           V27           V28         Amount  \\\n",
       "count  2.848070e+05  2.848070e+05  2.848070e+05  2.848070e+05  284807.000000   \n",
       "mean   5.340915e-16  1.683437e-15 -3.660091e-16 -1.227390e-16      88.349619   \n",
       "std    5.212781e-01  4.822270e-01  4.036325e-01  3.300833e-01     250.120109   \n",
       "min   -1.029540e+01 -2.604551e+00 -2.256568e+01 -1.543008e+01       0.000000   \n",
       "25%   -3.171451e-01 -3.269839e-01 -7.083953e-02 -5.295979e-02       5.600000   \n",
       "50%    1.659350e-02 -5.213911e-02  1.342146e-03  1.124383e-02      22.000000   \n",
       "75%    3.507156e-01  2.409522e-01  9.104512e-02  7.827995e-02      77.165000   \n",
       "max    7.519589e+00  3.517346e+00  3.161220e+01  3.384781e+01   25691.160000   \n",
       "\n",
       "               Class  \n",
       "count  284807.000000  \n",
       "mean        0.001727  \n",
       "std         0.041527  \n",
       "min         0.000000  \n",
       "25%         0.000000  \n",
       "50%         0.000000  \n",
       "75%         0.000000  \n",
       "max         1.000000  \n",
       "\n",
       "[8 rows x 31 columns]"
      ]
     },
     "execution_count": 3,
     "metadata": {},
     "output_type": "execute_result"
    }
   ],
   "source": [
    "cdc = pd.read_csv('creditcard.csv')\n",
    "cdc.info()\n",
    "cdc.describe()"
   ]
  },
  {
   "cell_type": "code",
   "execution_count": null,
   "id": "38da317c",
   "metadata": {},
   "outputs": [],
   "source": [
    "cdc.tail()"
   ]
  },
  {
   "cell_type": "markdown",
   "id": "d7b693ff",
   "metadata": {},
   "source": [
    "# Dealing with class imbalance"
   ]
  },
  {
   "cell_type": "code",
   "execution_count": 4,
   "id": "bedc7073",
   "metadata": {},
   "outputs": [
    {
     "data": {
      "image/png": "[encoded data removed]",
      "text/plain": [
       "<Figure size 432x288 with 1 Axes>"
      ]
     },
     "metadata": {},
     "output_type": "display_data"
    }
   ],
   "source": [
    "def pie_chart_binary(data, title='Fraud vs Non-Fraud'):\n",
    "    labels = 'Non-Fraud', 'Fraud'\n",
    "\n",
    "    # if data is Series object then use value_counts()\n",
    "    if isinstance(data, pd.Series):\n",
    "        sizes = data.value_counts()\n",
    "    \n",
    "    # if data is DataFrame object then use Class column\n",
    "    elif isinstance(data, pd.DataFrame):\n",
    "        sizes = [len(data[data.Class == 0]), len(data[data.Class == 1])]\n",
    "\n",
    "    explode = (0, 0.1)\n",
    "    fig1, ax1 = plt.subplots()\n",
    "    ax1.pie(sizes, explode=explode, labels=labels, autopct='%1.1f%%')\n",
    "\n",
    "    plt.title(title, fontsize=20)\n",
    "    ax1.axis('equal')  \n",
    "    plt.show()\n",
    "\n",
    "pie_chart_binary(cdc)"
   ]
  },
  {
   "cell_type": "code",
   "execution_count": 5,
   "id": "db70ea83",
   "metadata": {},
   "outputs": [],
   "source": [
    "#Based on the above pie chart, we can see that the data is highly imbalanced. We will need to use SMOTE to balance the data.\n",
    "\n",
    "#copy the bacic data into a new dataframe\n",
    "cdc2 = cdc.copy()\n",
    "\n",
    "X = cdc2.drop(['Time', 'Amount', 'Class'], axis=1)\n",
    "y = cdc2['Class']\n",
    "\n",
    "# split the data into training, validation, and test sets\n",
    "# we will use 60% of the data for training, 20% for validation, and 20% for testing\n",
    "\n",
    "X_train, X_test, y_train, y_test = train_test_split(X, y, test_size=0.2, random_state=101)\n",
    "X_train, X_val, y_train, y_val = train_test_split(X_train, y_train, test_size=0.25, random_state=101)\n",
    "\n",
    "# scale the data using StandardScaler\n",
    "# we will fit the scaler to the training data and then use it to transform the training, validation, and test sets\n",
    "\n",
    "scaler = StandardScaler()\n",
    "scaler.fit(X_train)\n",
    "\n",
    "X_train = scaler.transform(X_train)\n",
    "X_val = scaler.transform(X_val)\n",
    "X_test = scaler.transform(X_test)\n",
    "\n",
    "# save the original data for later use\n",
    "X_train_org = X_train\n",
    "y_train_org = y_train\n",
    "\n",
    "# X_val_org = X_val\n",
    "# y_val_org = y_val\n",
    "\n",
    "# X_test_org = X_test\n",
    "# y_test_org = y_test"
   ]
  },
  {
   "cell_type": "markdown",
   "id": "77b36703",
   "metadata": {},
   "source": [
    "# SMOTE  (Synthetic Minority Oversampling Technique)\n",
    "\n",
    "Advantages:\n",
    "\n",
    "- Simple and easy to implement\n",
    "- Improves the performance of machine learning models on imbalanced datasets\n",
    "- Can handle various types of data, including numerical and categorical\n",
    "\n",
    "\n",
    "Disadvantages:\n",
    "\n",
    "- Can generate synthetic data points that are very similar to existing data points, leading to overfitting\n",
    "- May not be effective for datasets with complex class distributions"
   ]
  },
  {
   "cell_type": "code",
   "execution_count": 6,
   "id": "8d0f162a",
   "metadata": {},
   "outputs": [
    {
     "name": "stdout",
     "output_type": "stream",
     "text": [
      "Before OverSampling, the shape of train_X: (170883, 28)\n",
      "Before OverSampling, the shape of train_y: (170883,) \n",
      "\n",
      "Before OverSampling, counts of label '1': 296\n",
      "Before OverSampling, counts of label '0': 170587\n",
      "\n",
      "After OverSampling, the shape of train_X: (341174, 28)\n",
      "After OverSampling, the shape of train_y: (341174,) \n",
      "\n",
      "After OverSampling, counts of label '1': 170587\n",
      "After OverSampling, counts of label '0': 170587\n"
     ]
    }
   ],
   "source": [
    "# compate before and after SMOTE to see the difference \n",
    "\n",
    "print('Before OverSampling, the shape of train_X: {}'.format(X_train_org.shape))\n",
    "print('Before OverSampling, the shape of train_y: {} \\n'.format(y_train_org.shape))\n",
    "\n",
    "print(\"Before OverSampling, counts of label '1': {}\".format(sum(y_train_org==1)))\n",
    "print(\"Before OverSampling, counts of label '0': {}\".format(sum(y_train_org==0)))\n",
    "print(\"\")\n",
    "\n",
    "from imblearn.over_sampling import SMOTE\n",
    "\n",
    "sm = SMOTE(random_state=101)\n",
    "X_train, y_train = sm.fit_resample(X_train, y_train)\n",
    "\n",
    "\n",
    "print('After OverSampling, the shape of train_X: {}'.format(X_train.shape))\n",
    "print('After OverSampling, the shape of train_y: {} \\n'.format(y_train.shape))\n",
    "\n",
    "print(\"After OverSampling, counts of label '1': {}\".format(sum(y_train==1)))\n",
    "print(\"After OverSampling, counts of label '0': {}\".format(sum(y_train==0)))"
   ]
  },
  {
   "cell_type": "code",
   "execution_count": 7,
   "id": "5a4a23d6",
   "metadata": {},
   "outputs": [
    {
     "data": {
      "image/png": "[encoded data removed]",
      "text/plain": [
       "<Figure size 432x288 with 1 Axes>"
      ]
     },
     "metadata": {},
     "output_type": "display_data"
    }
   ],
   "source": [
    "# visualize the data after SMOTE\n",
    "\n",
    "pie_chart_binary(y_train, title='Fraud vs Non-Fraud after SMOTE')"
   ]
  },
  {
   "cell_type": "markdown",
   "id": "47b6b054",
   "metadata": {},
   "source": [
    "# GAN (Generative Adversarial Network)\n",
    "\n",
    "\n",
    "Advantages:\n",
    "\n",
    "- Can generate realistic and diverse synthetic data points\n",
    "- Can handle various types of data, including images, audio, and text\n",
    "- Can improve the generalization of machine learning models\n",
    "\n",
    "\n",
    "Disadvantages:\n",
    "\n",
    "- More complex and difficult to implement than SMOTE\n",
    "- Require a large amount of training data\n",
    "- Sensitive to the choice of hyperparameters\n",
    "- Can generate synthetic data that does not accurately represent the underlying data distribution."
   ]
  },
  {
   "cell_type": "code",
   "execution_count": null,
   "id": "db22cf5a",
   "metadata": {},
   "outputs": [],
   "source": [
    "#!pip install ctgan"
   ]
  },
  {
   "cell_type": "code",
   "execution_count": null,
   "id": "b3577860",
   "metadata": {},
   "outputs": [],
   "source": [
    "# from ctgan import CTGAN\n",
    "\n",
    "# # create a synthetic dataset using CTGAN\n",
    "# ctgan = CTGAN(epochs=1)\n",
    "# ctgan.fit(X_train_org, y_train_org)\n",
    "\n",
    "# # generate the same number of samples as the original data\n",
    "# X_train_ctgan, y_train_ctgan = ctgan.sample(len(X_train_org))\n",
    "\n",
    "# # visualize the data after CTGAN\n",
    "\n",
    "# f"
   ]
  },
  {
   "cell_type": "code",
   "execution_count": 8,
   "id": "f4bbc359",
   "metadata": {},
   "outputs": [],
   "source": [
    "import wandb\n",
    "from sklearn.metrics import classification_report, roc_auc_score\n",
    "from sklearn.metrics import accuracy_score, precision_score, recall_score, f1_score\n",
    "import pickle\n",
    "\n",
    "def log_metrics(model_name, split_name, y_true, y_pred, y_proba=None):\n",
    "    \"\"\"\n",
    "    Logs classification metrics to a WandB table.\n",
    "    \n",
    "    Arguments:\n",
    "    - model_name (str): Name of the model being evaluated.\n",
    "    - split_name (str): Name of the dataset being evaluated (e.g. \"train\", \"val\", \"test\").\n",
    "    - y_true (array-like): True class labels for the samples.\n",
    "    - y_pred (array-like): Predicted class labels for the samples.\n",
    "    - y_proba (array-like, optional): Predicted probabilities for the positive class.\n",
    "    \"\"\"\n",
    "    # Calculate metrics and create a df that can be converted to a WandB table\n",
    "    metrics = {\n",
    "        'accuracy': accuracy_score(y_true, y_pred),\n",
    "        'precision': precision_score(y_true, y_pred),\n",
    "        'recall': recall_score(y_true, y_pred),\n",
    "        'f1': f1_score(y_true, y_pred)\n",
    "    }\n",
    "\n",
    "    # if y_proba is not None:\n",
    "    #     metrics['roc_auc'] = roc_auc_score(y_true, y_proba)\n",
    "\n",
    "    metrics_df = pd.DataFrame(metrics, index=[0])\n",
    "    my_table = wandb.Table(dataframe=metrics_df)\n",
    "\n",
    "    # Log the metrics table to WandB\n",
    "    wandb.log({f\"{model_name} {split_name} \": my_table})\n",
    "\n",
    "    # plot the confusion matrix\n",
    "\n",
    "    #log metric to chart\n",
    "    # wandb.log({f\"{model_name} {split_name} accuracy\": metrics['accuracy']})\n",
    "    # wandb.log({f\"{model_name} {split_name} precision\": metrics['precision']})\n",
    "    # wandb.log({f\"{model_name} {split_name} recall\": metrics['recall']})\n",
    "    # wandb.log({f\"{model_name} {split_name} f1\": metrics['f1']})\n",
    "    # if y_proba is not None:\n",
    "    #     wandb.log({f\"{model_name} {split_name}\": metrics['roc_auc']})\n",
    "    # else:\n",
    "    #     wandb.log({f\"{model_name} {split_name}\": 'N/A'})\n",
    "    \n",
    "\n",
    "\n",
    "def log_model(model, name, epoch=0):\n",
    "    # Log the model as a pickle file to WandB\n",
    "    with open(f\"{name}_{epoch}.pickle\", \"wb\") as f:\n",
    "        pickle.dump(model, f)\n",
    "    artifact = wandb.Artifact(name=name, type='model')\n",
    "    artifact.add_file(f\"{name}_{epoch}.pickle\")\n",
    "    wandb.log_artifact(artifact)\n",
    "    print(f\"Model '{name}_{epoch}' logged to WandB.\")"
   ]
  },
  {
   "cell_type": "markdown",
   "id": "e352d5d8",
   "metadata": {},
   "source": [
    "# Reduction model - Random Forest, Gradient Boosting"
   ]
  },
  {
   "cell_type": "code",
   "execution_count": 1,
   "id": "2bf04698",
   "metadata": {},
   "outputs": [
    {
     "name": "stderr",
     "output_type": "stream",
     "text": [
      "\u001b[34m\u001b[1mwandb\u001b[0m: Currently logged in as: \u001b[33mproject-machine-learning\u001b[0m (\u001b[33mproject-ml-51\u001b[0m). Use \u001b[1m`wandb login --relogin`\u001b[0m to force relogin\n"
     ]
    },
    {
     "data": {
      "text/plain": [
       "True"
      ]
     },
     "execution_count": 1,
     "metadata": {},
     "output_type": "execute_result"
    }
   ],
   "source": [
    "# !pip3 install wandb\n",
    "import wandb\n",
    "\n",
    "wandb.login()"
   ]
  },
  {
   "cell_type": "code",
   "execution_count": null,
   "id": "994e0308",
   "metadata": {},
   "outputs": [],
   "source": [
    "# !wandb sync "
   ]
  },
  {
   "cell_type": "code",
   "execution_count": null,
   "id": "dd21130c",
   "metadata": {},
   "outputs": [],
   "source": [
    "# !wandb sync --clean"
   ]
  },
  {
   "cell_type": "code",
   "execution_count": null,
   "id": "e8388bb2",
   "metadata": {
    "scrolled": false
   },
   "outputs": [],
   "source": [
    "# !wandb login --relogin"
   ]
  },
  {
   "cell_type": "code",
   "execution_count": 9,
   "id": "89ac28dc",
   "metadata": {},
   "outputs": [
    {
     "data": {
      "text/html": [
       "Tracking run with wandb version 0.14.0"
      ],
      "text/plain": [
       "<IPython.core.display.HTML object>"
      ]
     },
     "metadata": {},
     "output_type": "display_data"
    },
    {
     "data": {
      "text/html": [
       "Run data is saved locally in <code>/Users/Vlad/Library/CloudStorage/OneDrive-Personal/AI/P4 - Machine Learning [2]/ML-Group-51/wandb/run-20230331_003632-iev9vykz</code>"
      ],
      "text/plain": [
       "<IPython.core.display.HTML object>"
      ]
     },
     "metadata": {},
     "output_type": "display_data"
    },
    {
     "data": {
      "text/html": [
       "Syncing run <strong><a href='https://wandb.ai/project-ml-51/CC_Fraud_Detection_RF/runs/iev9vykz' target=\"_blank\">generous-durian-2</a></strong> to <a href='https://wandb.ai/project-ml-51/CC_Fraud_Detection_RF' target=\"_blank\">Weights & Biases</a> (<a href='https://wandb.me/run' target=\"_blank\">docs</a>)<br/>"
      ],
      "text/plain": [
       "<IPython.core.display.HTML object>"
      ]
     },
     "metadata": {},
     "output_type": "display_data"
    },
    {
     "data": {
      "text/html": [
       " View project at <a href='https://wandb.ai/project-ml-51/CC_Fraud_Detection_RF' target=\"_blank\">https://wandb.ai/project-ml-51/CC_Fraud_Detection_RF</a>"
      ],
      "text/plain": [
       "<IPython.core.display.HTML object>"
      ]
     },
     "metadata": {},
     "output_type": "display_data"
    },
    {
     "data": {
      "text/html": [
       " View run at <a href='https://wandb.ai/project-ml-51/CC_Fraud_Detection_RF/runs/iev9vykz' target=\"_blank\">https://wandb.ai/project-ml-51/CC_Fraud_Detection_RF/runs/iev9vykz</a>"
      ],
      "text/plain": [
       "<IPython.core.display.HTML object>"
      ]
     },
     "metadata": {},
     "output_type": "display_data"
    },
    {
     "name": "stdout",
     "output_type": "stream",
     "text": [
      "Model 'Random_Forest_0' logged to WandB.\n",
      "[[56714   155]\n",
      " [   20    73]]\n",
      "              precision    recall  f1-score   support\n",
      "\n",
      "           0       1.00      1.00      1.00     56869\n",
      "           1       0.32      0.78      0.45        93\n",
      "\n",
      "    accuracy                           1.00     56962\n",
      "   macro avg       0.66      0.89      0.73     56962\n",
      "weighted avg       1.00      1.00      1.00     56962\n",
      "\n"
     ]
    },
    {
     "data": {
      "text/html": [
       "Waiting for W&B process to finish... <strong style=\"color:green\">(success).</strong>"
      ],
      "text/plain": [
       "<IPython.core.display.HTML object>"
      ]
     },
     "metadata": {},
     "output_type": "display_data"
    },
    {
     "data": {
      "text/html": [
       " View run <strong style=\"color:#cdcd00\">generous-durian-2</strong> at: <a href='https://wandb.ai/project-ml-51/CC_Fraud_Detection_RF/runs/iev9vykz' target=\"_blank\">https://wandb.ai/project-ml-51/CC_Fraud_Detection_RF/runs/iev9vykz</a><br/>Synced 4 W&B file(s), 0 media file(s), 1 artifact file(s) and 0 other file(s)"
      ],
      "text/plain": [
       "<IPython.core.display.HTML object>"
      ]
     },
     "metadata": {},
     "output_type": "display_data"
    },
    {
     "data": {
      "text/html": [
       "Find logs at: <code>./wandb/run-20230331_003632-iev9vykz/logs</code>"
      ],
      "text/plain": [
       "<IPython.core.display.HTML object>"
      ]
     },
     "metadata": {},
     "output_type": "display_data"
    }
   ],
   "source": [
    "# Import necessary libraries\n",
    "import pandas as pd\n",
    "from sklearn.ensemble import RandomForestClassifier\n",
    "from sklearn.model_selection import train_test_split\n",
    "from sklearn.metrics import confusion_matrix, classification_report\n",
    "from sklearn.metrics import f1_score\n",
    "import wandb\n",
    "\n",
    "\n",
    "# Initialize wandb\n",
    "wandb.init(project=\"CC_Fraud_Detection_RF\")\n",
    "\n",
    "n_estimators = 1\n",
    "random_state = 42\n",
    "\n",
    "# Log the hyperparameters to wandb\n",
    "config = wandb.config\n",
    "config.n_estimators = n_estimators\n",
    "config.random_state = random_state\n",
    "\n",
    "# Create Random Forest classifier \n",
    "clf = RandomForestClassifier(n_estimators=n_estimators, random_state=random_state)\n",
    "\n",
    "# Fit the model to the training data and log the metrics to wandb\n",
    "clf.fit(X_train, y_train)\n",
    "y_pred = clf.predict(X_val)\n",
    "log_metrics(\"Random_Forest\", \"val\", y_val, y_pred)\n",
    "log_model(clf, \"Random_Forest\")\n",
    "\n",
    "#log_confusion_matrix(\"Random_Forest\", \"val\", y_val, y_pred)\n",
    "#log_classification_report(\"Random_Forest\", \"val\", y_val, y_pred)\n",
    "\n",
    "# Evaluate the final performance of the model and log the metrics to wandb\n",
    "y_pred = clf.predict(X_val)\n",
    "print(confusion_matrix(y_val, y_pred))\n",
    "print(classification_report(y_val, y_pred))\n",
    "\n",
    "# Finish the wandb run\n",
    "wandb.finish()"
   ]
  },
  {
   "cell_type": "markdown",
   "id": "c61e82c0",
   "metadata": {},
   "source": [
    "# Recognition model - Naive Bayes, Deep Learning Models"
   ]
  },
  {
   "cell_type": "code",
   "execution_count": 10,
   "id": "2e6180ba",
   "metadata": {},
   "outputs": [
    {
     "data": {
      "application/vnd.jupyter.widget-view+json": {
       "model_id": "25b0de50df1541dfbca7c7e921335d8b",
       "version_major": 2,
       "version_minor": 0
      },
      "text/plain": [
       "VBox(children=(Label(value='Waiting for wandb.init()...\\r'), FloatProgress(value=0.01670247205038322, max=1.0)…"
      ]
     },
     "metadata": {},
     "output_type": "display_data"
    },
    {
     "data": {
      "text/html": [
       "Tracking run with wandb version 0.14.0"
      ],
      "text/plain": [
       "<IPython.core.display.HTML object>"
      ]
     },
     "metadata": {},
     "output_type": "display_data"
    },
    {
     "data": {
      "text/html": [
       "Run data is saved locally in <code>/Users/Vlad/Library/CloudStorage/OneDrive-Personal/AI/P4 - Machine Learning [2]/ML-Group-51/wandb/run-20230331_003648-kh4ueq6d</code>"
      ],
      "text/plain": [
       "<IPython.core.display.HTML object>"
      ]
     },
     "metadata": {},
     "output_type": "display_data"
    },
    {
     "data": {
      "text/html": [
       "Syncing run <strong><a href='https://wandb.ai/project-ml-51/CC_Fraud_Detection_NB/runs/kh4ueq6d' target=\"_blank\">honest-monkey-2</a></strong> to <a href='https://wandb.ai/project-ml-51/CC_Fraud_Detection_NB' target=\"_blank\">Weights & Biases</a> (<a href='https://wandb.me/run' target=\"_blank\">docs</a>)<br/>"
      ],
      "text/plain": [
       "<IPython.core.display.HTML object>"
      ]
     },
     "metadata": {},
     "output_type": "display_data"
    },
    {
     "data": {
      "text/html": [
       " View project at <a href='https://wandb.ai/project-ml-51/CC_Fraud_Detection_NB' target=\"_blank\">https://wandb.ai/project-ml-51/CC_Fraud_Detection_NB</a>"
      ],
      "text/plain": [
       "<IPython.core.display.HTML object>"
      ]
     },
     "metadata": {},
     "output_type": "display_data"
    },
    {
     "data": {
      "text/html": [
       " View run at <a href='https://wandb.ai/project-ml-51/CC_Fraud_Detection_NB/runs/kh4ueq6d' target=\"_blank\">https://wandb.ai/project-ml-51/CC_Fraud_Detection_NB/runs/kh4ueq6d</a>"
      ],
      "text/plain": [
       "<IPython.core.display.HTML object>"
      ]
     },
     "metadata": {},
     "output_type": "display_data"
    },
    {
     "name": "stdout",
     "output_type": "stream",
     "text": [
      "Model 'Naive_Bayes_0' logged to WandB.\n",
      "[[55467  1402]\n",
      " [   13    80]]\n",
      "              precision    recall  f1-score   support\n",
      "\n",
      "           0       1.00      0.98      0.99     56869\n",
      "           1       0.05      0.86      0.10        93\n",
      "\n",
      "    accuracy                           0.98     56962\n",
      "   macro avg       0.53      0.92      0.54     56962\n",
      "weighted avg       1.00      0.98      0.99     56962\n",
      "\n"
     ]
    },
    {
     "data": {
      "text/html": [
       "Waiting for W&B process to finish... <strong style=\"color:green\">(success).</strong>"
      ],
      "text/plain": [
       "<IPython.core.display.HTML object>"
      ]
     },
     "metadata": {},
     "output_type": "display_data"
    },
    {
     "data": {
      "text/html": [
       " View run <strong style=\"color:#cdcd00\">honest-monkey-2</strong> at: <a href='https://wandb.ai/project-ml-51/CC_Fraud_Detection_NB/runs/kh4ueq6d' target=\"_blank\">https://wandb.ai/project-ml-51/CC_Fraud_Detection_NB/runs/kh4ueq6d</a><br/>Synced 4 W&B file(s), 0 media file(s), 1 artifact file(s) and 0 other file(s)"
      ],
      "text/plain": [
       "<IPython.core.display.HTML object>"
      ]
     },
     "metadata": {},
     "output_type": "display_data"
    },
    {
     "data": {
      "text/html": [
       "Find logs at: <code>./wandb/run-20230331_003648-kh4ueq6d/logs</code>"
      ],
      "text/plain": [
       "<IPython.core.display.HTML object>"
      ]
     },
     "metadata": {},
     "output_type": "display_data"
    }
   ],
   "source": [
    "# Import necessary libraries\n",
    "import pandas as pd\n",
    "import numpy as np\n",
    "from sklearn.naive_bayes import GaussianNB\n",
    "from sklearn.model_selection import train_test_split\n",
    "from sklearn.metrics import confusion_matrix, classification_report\n",
    "import wandb\n",
    "\n",
    "# Initialize wandb\n",
    "wandb.init(project='CC_Fraud_Detection_NB')\n",
    "\n",
    "\n",
    "# Create Naive Bayes classifier\n",
    "clf = GaussianNB()\n",
    "\n",
    "\n",
    "# Fit the model to the training data and log metrics\n",
    "clf.fit(X_train, y_train)\n",
    "y_pred = clf.predict(X_val)\n",
    "log_metrics(\"Naive_Bayes\", \"val\", y_val, y_pred)\n",
    "log_model(clf, \"Naive_Bayes\")\n",
    "\n",
    "# Evaluate the performance of the model on the test set\n",
    "print(confusion_matrix(y_val, y_pred))\n",
    "print(classification_report(y_val, y_pred))\n",
    "\n",
    "# Finish the wandb run\n",
    "wandb.finish()"
   ]
  },
  {
   "cell_type": "markdown",
   "id": "c5876f4b",
   "metadata": {},
   "source": [
    "# Anomaly model - k-means clustering, Local Outlier Factor (LOF), and Isolation Forest\n"
   ]
  },
  {
   "cell_type": "code",
   "execution_count": 11,
   "id": "9e1964e5",
   "metadata": {},
   "outputs": [
    {
     "data": {
      "application/vnd.jupyter.widget-view+json": {
       "model_id": "f1796c7f7c7f45a7b0bc7c164c893178",
       "version_major": 2,
       "version_minor": 0
      },
      "text/plain": [
       "VBox(children=(Label(value='Waiting for wandb.init()...\\r'), FloatProgress(value=0.01674242584995227, max=1.0)…"
      ]
     },
     "metadata": {},
     "output_type": "display_data"
    },
    {
     "data": {
      "text/html": [
       "Tracking run with wandb version 0.14.0"
      ],
      "text/plain": [
       "<IPython.core.display.HTML object>"
      ]
     },
     "metadata": {},
     "output_type": "display_data"
    },
    {
     "data": {
      "text/html": [
       "Run data is saved locally in <code>/Users/Vlad/Library/CloudStorage/OneDrive-Personal/AI/P4 - Machine Learning [2]/ML-Group-51/wandb/run-20230331_003659-l4maozz7</code>"
      ],
      "text/plain": [
       "<IPython.core.display.HTML object>"
      ]
     },
     "metadata": {},
     "output_type": "display_data"
    },
    {
     "data": {
      "text/html": [
       "Syncing run <strong><a href='https://wandb.ai/project-ml-51/CC_Fraud_Detection_IF/runs/l4maozz7' target=\"_blank\">expert-dawn-2</a></strong> to <a href='https://wandb.ai/project-ml-51/CC_Fraud_Detection_IF' target=\"_blank\">Weights & Biases</a> (<a href='https://wandb.me/run' target=\"_blank\">docs</a>)<br/>"
      ],
      "text/plain": [
       "<IPython.core.display.HTML object>"
      ]
     },
     "metadata": {},
     "output_type": "display_data"
    },
    {
     "data": {
      "text/html": [
       " View project at <a href='https://wandb.ai/project-ml-51/CC_Fraud_Detection_IF' target=\"_blank\">https://wandb.ai/project-ml-51/CC_Fraud_Detection_IF</a>"
      ],
      "text/plain": [
       "<IPython.core.display.HTML object>"
      ]
     },
     "metadata": {},
     "output_type": "display_data"
    },
    {
     "data": {
      "text/html": [
       " View run at <a href='https://wandb.ai/project-ml-51/CC_Fraud_Detection_IF/runs/l4maozz7' target=\"_blank\">https://wandb.ai/project-ml-51/CC_Fraud_Detection_IF/runs/l4maozz7</a>"
      ],
      "text/plain": [
       "<IPython.core.display.HTML object>"
      ]
     },
     "metadata": {},
     "output_type": "display_data"
    },
    {
     "name": "stdout",
     "output_type": "stream",
     "text": [
      "[[    0     0     0]\n",
      " [  538     0 56331]\n",
      " [   23     0    70]]\n",
      "              precision    recall  f1-score   support\n",
      "\n",
      "          -1       0.00      0.00      0.00         0\n",
      "           0       0.00      0.00      0.00     56869\n",
      "           1       0.00      0.75      0.00        93\n",
      "\n",
      "    accuracy                           0.00     56962\n",
      "   macro avg       0.00      0.25      0.00     56962\n",
      "weighted avg       0.00      0.00      0.00     56962\n",
      "\n"
     ]
    },
    {
     "name": "stderr",
     "output_type": "stream",
     "text": [
      "/Library/Frameworks/Python.framework/Versions/3.10/lib/python3.10/site-packages/sklearn/metrics/_classification.py:1344: UndefinedMetricWarning: Precision and F-score are ill-defined and being set to 0.0 in labels with no predicted samples. Use `zero_division` parameter to control this behavior.\n",
      "  _warn_prf(average, modifier, msg_start, len(result))\n",
      "/Library/Frameworks/Python.framework/Versions/3.10/lib/python3.10/site-packages/sklearn/metrics/_classification.py:1344: UndefinedMetricWarning: Recall and F-score are ill-defined and being set to 0.0 in labels with no true samples. Use `zero_division` parameter to control this behavior.\n",
      "  _warn_prf(average, modifier, msg_start, len(result))\n",
      "/Library/Frameworks/Python.framework/Versions/3.10/lib/python3.10/site-packages/sklearn/metrics/_classification.py:1344: UndefinedMetricWarning: Precision and F-score are ill-defined and being set to 0.0 in labels with no predicted samples. Use `zero_division` parameter to control this behavior.\n",
      "  _warn_prf(average, modifier, msg_start, len(result))\n",
      "/Library/Frameworks/Python.framework/Versions/3.10/lib/python3.10/site-packages/sklearn/metrics/_classification.py:1344: UndefinedMetricWarning: Recall and F-score are ill-defined and being set to 0.0 in labels with no true samples. Use `zero_division` parameter to control this behavior.\n",
      "  _warn_prf(average, modifier, msg_start, len(result))\n",
      "/Library/Frameworks/Python.framework/Versions/3.10/lib/python3.10/site-packages/sklearn/metrics/_classification.py:1344: UndefinedMetricWarning: Precision and F-score are ill-defined and being set to 0.0 in labels with no predicted samples. Use `zero_division` parameter to control this behavior.\n",
      "  _warn_prf(average, modifier, msg_start, len(result))\n",
      "/Library/Frameworks/Python.framework/Versions/3.10/lib/python3.10/site-packages/sklearn/metrics/_classification.py:1344: UndefinedMetricWarning: Recall and F-score are ill-defined and being set to 0.0 in labels with no true samples. Use `zero_division` parameter to control this behavior.\n",
      "  _warn_prf(average, modifier, msg_start, len(result))\n"
     ]
    },
    {
     "data": {
      "text/html": [
       "Waiting for W&B process to finish... <strong style=\"color:green\">(success).</strong>"
      ],
      "text/plain": [
       "<IPython.core.display.HTML object>"
      ]
     },
     "metadata": {},
     "output_type": "display_data"
    },
    {
     "data": {
      "application/vnd.jupyter.widget-view+json": {
       "model_id": "5928827b3f85472dbe8502a5313ef2c3",
       "version_major": 2,
       "version_minor": 0
      },
      "text/plain": [
       "VBox(children=(Label(value='0.000 MB of 0.000 MB uploaded (0.000 MB deduped)\\r'), FloatProgress(value=1.0, max…"
      ]
     },
     "metadata": {},
     "output_type": "display_data"
    },
    {
     "data": {
      "text/html": [
       " View run <strong style=\"color:#cdcd00\">expert-dawn-2</strong> at: <a href='https://wandb.ai/project-ml-51/CC_Fraud_Detection_IF/runs/l4maozz7' target=\"_blank\">https://wandb.ai/project-ml-51/CC_Fraud_Detection_IF/runs/l4maozz7</a><br/>Synced 4 W&B file(s), 0 media file(s), 0 artifact file(s) and 0 other file(s)"
      ],
      "text/plain": [
       "<IPython.core.display.HTML object>"
      ]
     },
     "metadata": {},
     "output_type": "display_data"
    },
    {
     "data": {
      "text/html": [
       "Find logs at: <code>./wandb/run-20230331_003659-l4maozz7/logs</code>"
      ],
      "text/plain": [
       "<IPython.core.display.HTML object>"
      ]
     },
     "metadata": {},
     "output_type": "display_data"
    }
   ],
   "source": [
    "import pandas as pd\n",
    "from sklearn.ensemble import IsolationForest\n",
    "import wandb\n",
    "\n",
    "# Initialize wandb\n",
    "wandb.init(project=\"CC_Fraud_Detection_IF\")\n",
    "\n",
    "# Log hyperparameters\n",
    "config = wandb.config\n",
    "config.n_estimators = 100\n",
    "config.max_samples = 'auto'\n",
    "config.contamination = 'auto'\n",
    "config.random_state = 42\n",
    "\n",
    "# Initialize Isolation Forest model\n",
    "model = IsolationForest(n_estimators=config.n_estimators,\n",
    "                        max_samples=config.max_samples,\n",
    "                        contamination=config.contamination,\n",
    "                        random_state=config.random_state)\n",
    "\n",
    "\n",
    "# Fit the model to the training data and log metrics\n",
    "model.fit(X_train)\n",
    "\n",
    "# Evalue the performance of the model on the test set\n",
    "y_pred = model.predict(X_val)\n",
    "\n",
    "#create a confusion matrix\n",
    "print(confusion_matrix(y_val, y_pred))\n",
    "\n",
    "# Print the classification report\n",
    "print(classification_report(y_val, y_pred))\n",
    "\n",
    "# Finish the wandb run\n",
    "wandb.finish()\n"
   ]
  },
  {
   "cell_type": "code",
   "execution_count": 12,
   "id": "01cfa322",
   "metadata": {},
   "outputs": [
    {
     "data": {
      "application/vnd.jupyter.widget-view+json": {
       "model_id": "e57bd2ff2fc4407a8dac321061b761ec",
       "version_major": 2,
       "version_minor": 0
      },
      "text/plain": [
       "VBox(children=(Label(value='Waiting for wandb.init()...\\r'), FloatProgress(value=0.016686773250209324, max=1.0…"
      ]
     },
     "metadata": {},
     "output_type": "display_data"
    },
    {
     "data": {
      "text/html": [
       "Tracking run with wandb version 0.14.0"
      ],
      "text/plain": [
       "<IPython.core.display.HTML object>"
      ]
     },
     "metadata": {},
     "output_type": "display_data"
    },
    {
     "data": {
      "text/html": [
       "Run data is saved locally in <code>/Users/Vlad/Library/CloudStorage/OneDrive-Personal/AI/P4 - Machine Learning [2]/ML-Group-51/wandb/run-20230331_003712-100w7s6c</code>"
      ],
      "text/plain": [
       "<IPython.core.display.HTML object>"
      ]
     },
     "metadata": {},
     "output_type": "display_data"
    },
    {
     "data": {
      "text/html": [
       "Syncing run <strong><a href='https://wandb.ai/project-ml-51/CC_Fraud_Detection_Ensemble/runs/100w7s6c' target=\"_blank\">volcanic-voice-5</a></strong> to <a href='https://wandb.ai/project-ml-51/CC_Fraud_Detection_Ensemble' target=\"_blank\">Weights & Biases</a> (<a href='https://wandb.me/run' target=\"_blank\">docs</a>)<br/>"
      ],
      "text/plain": [
       "<IPython.core.display.HTML object>"
      ]
     },
     "metadata": {},
     "output_type": "display_data"
    },
    {
     "data": {
      "text/html": [
       " View project at <a href='https://wandb.ai/project-ml-51/CC_Fraud_Detection_Ensemble' target=\"_blank\">https://wandb.ai/project-ml-51/CC_Fraud_Detection_Ensemble</a>"
      ],
      "text/plain": [
       "<IPython.core.display.HTML object>"
      ]
     },
     "metadata": {},
     "output_type": "display_data"
    },
    {
     "data": {
      "text/html": [
       " View run at <a href='https://wandb.ai/project-ml-51/CC_Fraud_Detection_Ensemble/runs/100w7s6c' target=\"_blank\">https://wandb.ai/project-ml-51/CC_Fraud_Detection_Ensemble/runs/100w7s6c</a>"
      ],
      "text/plain": [
       "<IPython.core.display.HTML object>"
      ]
     },
     "metadata": {},
     "output_type": "display_data"
    },
    {
     "ename": "InvalidParameterError",
     "evalue": "The 'base_estimator' parameter of BaggingClassifier must be an object implementing 'fit' and 'predict', a str among {'deprecated'} or None. Got [RandomForestClassifier(n_estimators=1, random_state=42), GaussianNB()] instead.",
     "output_type": "error",
     "traceback": [
      "\u001b[0;31m---------------------------------------------------------------------------\u001b[0m",
      "\u001b[0;31mInvalidParameterError\u001b[0m                     Traceback (most recent call last)",
      "Input \u001b[0;32mIn [12]\u001b[0m, in \u001b[0;36m<cell line: 20>\u001b[0;34m()\u001b[0m\n\u001b[1;32m     17\u001b[0m bag_clf \u001b[38;5;241m=\u001b[39m BaggingClassifier(base_estimator\u001b[38;5;241m=\u001b[39m[rf_clf, nb_clf], n_estimators\u001b[38;5;241m=\u001b[39m\u001b[38;5;241m10\u001b[39m, max_samples\u001b[38;5;241m=\u001b[39m\u001b[38;5;241m0.8\u001b[39m, random_state\u001b[38;5;241m=\u001b[39m\u001b[38;5;241m42\u001b[39m)\n\u001b[1;32m     19\u001b[0m \u001b[38;5;66;03m# Train the ensemble model\u001b[39;00m\n\u001b[0;32m---> 20\u001b[0m \u001b[43mbag_clf\u001b[49m\u001b[38;5;241;43m.\u001b[39;49m\u001b[43mfit\u001b[49m\u001b[43m(\u001b[49m\u001b[43mX_train\u001b[49m\u001b[43m,\u001b[49m\u001b[43m \u001b[49m\u001b[43my_train\u001b[49m\u001b[43m)\u001b[49m\n\u001b[1;32m     21\u001b[0m log_metrics(\u001b[38;5;124m\"\u001b[39m\u001b[38;5;124mBagging_Ensemble\u001b[39m\u001b[38;5;124m\"\u001b[39m, \u001b[38;5;124m\"\u001b[39m\u001b[38;5;124mval\u001b[39m\u001b[38;5;124m\"\u001b[39m, y_val, y_pred)\n\u001b[1;32m     22\u001b[0m log_model(bag_clf, \u001b[38;5;124m\"\u001b[39m\u001b[38;5;124mBagging_Ensemble\u001b[39m\u001b[38;5;124m\"\u001b[39m)\n",
      "File \u001b[0;32m/Library/Frameworks/Python.framework/Versions/3.10/lib/python3.10/site-packages/sklearn/ensemble/_bagging.py:326\u001b[0m, in \u001b[0;36mBaseBagging.fit\u001b[0;34m(self, X, y, sample_weight)\u001b[0m\n\u001b[1;32m    302\u001b[0m \u001b[38;5;28;01mdef\u001b[39;00m \u001b[38;5;21mfit\u001b[39m(\u001b[38;5;28mself\u001b[39m, X, y, sample_weight\u001b[38;5;241m=\u001b[39m\u001b[38;5;28;01mNone\u001b[39;00m):\n\u001b[1;32m    303\u001b[0m \u001b[38;5;250m    \u001b[39m\u001b[38;5;124;03m\"\"\"Build a Bagging ensemble of estimators from the training set (X, y).\u001b[39;00m\n\u001b[1;32m    304\u001b[0m \n\u001b[1;32m    305\u001b[0m \u001b[38;5;124;03m    Parameters\u001b[39;00m\n\u001b[0;32m   (...)\u001b[0m\n\u001b[1;32m    323\u001b[0m \u001b[38;5;124;03m        Fitted estimator.\u001b[39;00m\n\u001b[1;32m    324\u001b[0m \u001b[38;5;124;03m    \"\"\"\u001b[39;00m\n\u001b[0;32m--> 326\u001b[0m     \u001b[38;5;28;43mself\u001b[39;49m\u001b[38;5;241;43m.\u001b[39;49m\u001b[43m_validate_params\u001b[49m\u001b[43m(\u001b[49m\u001b[43m)\u001b[49m\n\u001b[1;32m    328\u001b[0m     \u001b[38;5;66;03m# Convert data (X is required to be 2d and indexable)\u001b[39;00m\n\u001b[1;32m    329\u001b[0m     X, y \u001b[38;5;241m=\u001b[39m \u001b[38;5;28mself\u001b[39m\u001b[38;5;241m.\u001b[39m_validate_data(\n\u001b[1;32m    330\u001b[0m         X,\n\u001b[1;32m    331\u001b[0m         y,\n\u001b[0;32m   (...)\u001b[0m\n\u001b[1;32m    335\u001b[0m         multi_output\u001b[38;5;241m=\u001b[39m\u001b[38;5;28;01mTrue\u001b[39;00m,\n\u001b[1;32m    336\u001b[0m     )\n",
      "File \u001b[0;32m/Library/Frameworks/Python.framework/Versions/3.10/lib/python3.10/site-packages/sklearn/base.py:600\u001b[0m, in \u001b[0;36mBaseEstimator._validate_params\u001b[0;34m(self)\u001b[0m\n\u001b[1;32m    592\u001b[0m \u001b[38;5;28;01mdef\u001b[39;00m \u001b[38;5;21m_validate_params\u001b[39m(\u001b[38;5;28mself\u001b[39m):\n\u001b[1;32m    593\u001b[0m \u001b[38;5;250m    \u001b[39m\u001b[38;5;124;03m\"\"\"Validate types and values of constructor parameters\u001b[39;00m\n\u001b[1;32m    594\u001b[0m \n\u001b[1;32m    595\u001b[0m \u001b[38;5;124;03m    The expected type and values must be defined in the `_parameter_constraints`\u001b[39;00m\n\u001b[0;32m   (...)\u001b[0m\n\u001b[1;32m    598\u001b[0m \u001b[38;5;124;03m    accepted constraints.\u001b[39;00m\n\u001b[1;32m    599\u001b[0m \u001b[38;5;124;03m    \"\"\"\u001b[39;00m\n\u001b[0;32m--> 600\u001b[0m     \u001b[43mvalidate_parameter_constraints\u001b[49m\u001b[43m(\u001b[49m\n\u001b[1;32m    601\u001b[0m \u001b[43m        \u001b[49m\u001b[38;5;28;43mself\u001b[39;49m\u001b[38;5;241;43m.\u001b[39;49m\u001b[43m_parameter_constraints\u001b[49m\u001b[43m,\u001b[49m\n\u001b[1;32m    602\u001b[0m \u001b[43m        \u001b[49m\u001b[38;5;28;43mself\u001b[39;49m\u001b[38;5;241;43m.\u001b[39;49m\u001b[43mget_params\u001b[49m\u001b[43m(\u001b[49m\u001b[43mdeep\u001b[49m\u001b[38;5;241;43m=\u001b[39;49m\u001b[38;5;28;43;01mFalse\u001b[39;49;00m\u001b[43m)\u001b[49m\u001b[43m,\u001b[49m\n\u001b[1;32m    603\u001b[0m \u001b[43m        \u001b[49m\u001b[43mcaller_name\u001b[49m\u001b[38;5;241;43m=\u001b[39;49m\u001b[38;5;28;43mself\u001b[39;49m\u001b[38;5;241;43m.\u001b[39;49m\u001b[38;5;18;43m__class__\u001b[39;49m\u001b[38;5;241;43m.\u001b[39;49m\u001b[38;5;18;43m__name__\u001b[39;49m\u001b[43m,\u001b[49m\n\u001b[1;32m    604\u001b[0m \u001b[43m    \u001b[49m\u001b[43m)\u001b[49m\n",
      "File \u001b[0;32m/Library/Frameworks/Python.framework/Versions/3.10/lib/python3.10/site-packages/sklearn/utils/_param_validation.py:97\u001b[0m, in \u001b[0;36mvalidate_parameter_constraints\u001b[0;34m(parameter_constraints, params, caller_name)\u001b[0m\n\u001b[1;32m     91\u001b[0m \u001b[38;5;28;01melse\u001b[39;00m:\n\u001b[1;32m     92\u001b[0m     constraints_str \u001b[38;5;241m=\u001b[39m (\n\u001b[1;32m     93\u001b[0m         \u001b[38;5;124mf\u001b[39m\u001b[38;5;124m\"\u001b[39m\u001b[38;5;132;01m{\u001b[39;00m\u001b[38;5;124m'\u001b[39m\u001b[38;5;124m, \u001b[39m\u001b[38;5;124m'\u001b[39m\u001b[38;5;241m.\u001b[39mjoin([\u001b[38;5;28mstr\u001b[39m(c)\u001b[38;5;250m \u001b[39m\u001b[38;5;28;01mfor\u001b[39;00m\u001b[38;5;250m \u001b[39mc\u001b[38;5;250m \u001b[39m\u001b[38;5;129;01min\u001b[39;00m\u001b[38;5;250m \u001b[39mconstraints[:\u001b[38;5;241m-\u001b[39m\u001b[38;5;241m1\u001b[39m]])\u001b[38;5;132;01m}\u001b[39;00m\u001b[38;5;124m or\u001b[39m\u001b[38;5;124m\"\u001b[39m\n\u001b[1;32m     94\u001b[0m         \u001b[38;5;124mf\u001b[39m\u001b[38;5;124m\"\u001b[39m\u001b[38;5;124m \u001b[39m\u001b[38;5;132;01m{\u001b[39;00mconstraints[\u001b[38;5;241m-\u001b[39m\u001b[38;5;241m1\u001b[39m]\u001b[38;5;132;01m}\u001b[39;00m\u001b[38;5;124m\"\u001b[39m\n\u001b[1;32m     95\u001b[0m     )\n\u001b[0;32m---> 97\u001b[0m \u001b[38;5;28;01mraise\u001b[39;00m InvalidParameterError(\n\u001b[1;32m     98\u001b[0m     \u001b[38;5;124mf\u001b[39m\u001b[38;5;124m\"\u001b[39m\u001b[38;5;124mThe \u001b[39m\u001b[38;5;132;01m{\u001b[39;00mparam_name\u001b[38;5;132;01m!r}\u001b[39;00m\u001b[38;5;124m parameter of \u001b[39m\u001b[38;5;132;01m{\u001b[39;00mcaller_name\u001b[38;5;132;01m}\u001b[39;00m\u001b[38;5;124m must be\u001b[39m\u001b[38;5;124m\"\u001b[39m\n\u001b[1;32m     99\u001b[0m     \u001b[38;5;124mf\u001b[39m\u001b[38;5;124m\"\u001b[39m\u001b[38;5;124m \u001b[39m\u001b[38;5;132;01m{\u001b[39;00mconstraints_str\u001b[38;5;132;01m}\u001b[39;00m\u001b[38;5;124m. Got \u001b[39m\u001b[38;5;132;01m{\u001b[39;00mparam_val\u001b[38;5;132;01m!r}\u001b[39;00m\u001b[38;5;124m instead.\u001b[39m\u001b[38;5;124m\"\u001b[39m\n\u001b[1;32m    100\u001b[0m )\n",
      "\u001b[0;31mInvalidParameterError\u001b[0m: The 'base_estimator' parameter of BaggingClassifier must be an object implementing 'fit' and 'predict', a str among {'deprecated'} or None. Got [RandomForestClassifier(n_estimators=1, random_state=42), GaussianNB()] instead."
     ]
    }
   ],
   "source": [
    "# Ensamble models - bagging, boosting, stacking\n",
    "\n",
    "from sklearn.ensemble import BaggingClassifier\n",
    "from sklearn.naive_bayes import GaussianNB\n",
    "from sklearn.ensemble import RandomForestClassifier\n",
    "import pickle\n",
    "import wandb\n",
    "\n",
    "#load the models\n",
    "rf_clf = pickle.load(open(\"Random_Forest_0.pickle\", \"rb\"))\n",
    "nb_clf = pickle.load(open(\"Naive_Bayes_0.pickle\", \"rb\"))\n",
    "\n",
    "# Initialize wandb\n",
    "wandb.init(project=\"CC_Fraud_Detection_Ensemble\")\n",
    "\n",
    "# Define the bagging ensemble model\n",
    "bag_clf = BaggingClassifier(base_estimator=[rf_clf, nb_clf], n_estimators=10, max_samples=0.8, random_state=42)\n",
    "\n",
    "# Train the ensemble model\n",
    "bag_clf.fit(X_train, y_train)\n",
    "log_metrics(\"Bagging_Ensemble\", \"val\", y_val, y_pred)\n",
    "log_model(bag_clf, \"Bagging_Ensemble\")\n",
    "\n",
    "#Define the boosting ensemble model\n",
    "boost_clf = AdaBoostClassifier(base_estimator=rf_clf, n_estimators=10, random_state=42)\n",
    "\n",
    "# Train the ensemble model\n",
    "boost_clf.fit(X_train, y_train)\n",
    "log_metrics(\"Boosting_Ensemble\", \"val\", y_val, y_pred)\n",
    "log_model(boost_clf, \"Boosting_Ensemble\")\n",
    "\n",
    "# Define the stacking ensemble model\n",
    "stack_clf = StackingClassifier(estimators=[('rf', rf_clf), ('nb', nb_clf)], final_estimator=LogisticRegression())\n",
    "\n",
    "# Train the ensemble model\n",
    "stack_clf.fit(X_train, y_train)\n",
    "log_metrics(\"Stacking_Ensemble\", \"val\", y_val, y_pred)\n",
    "log_model(stack_clf, \"Stacking_Ensemble\")\n",
    "\n",
    "# Finish the wandb run\n",
    "wandb.finish()"
   ]
  },
  {
   "cell_type": "markdown",
   "id": "e320c4f1",
   "metadata": {},
   "source": [
    "Ensemble methods"
   ]
  },
  {
   "cell_type": "markdown",
   "id": "7bc35de8",
   "metadata": {},
   "source": [
    "# Final experiment \n",
    "\n",
    "- run final experiment of the test set\n",
    "\n"
   ]
  },
  {
   "cell_type": "code",
   "execution_count": null,
   "id": "e1777965",
   "metadata": {},
   "outputs": [],
   "source": [
    "import pandas as pd\n",
    "import numpy as np\n",
    "from sklearn.ensemble import RandomForestClassifier\n",
    "from sklearn.metrics import confusion_matrix, classification_report, roc_auc_score, roc_curve\n",
    "from sklearn.naive_bayes import GaussianNB\n",
    "from sklearn.ensemble import IsolationForest\n",
    "import wandb\n",
    "\n",
    "# Load test data\n",
    "# test_df = pd.read_csv(\"test_data.csv\")\n",
    "\n",
    "# Load trained models\n",
    "rf_model = RandomForestClassifier()\n",
    "# rf_model.load(\"Random_Forest_9.pickle\")\n",
    "rf_model.fit(X_train, y_train)\n",
    "\n",
    "# if_model = IsolationForest()\n",
    "# if_model.load(\"if_model.pkl\")\n",
    "\n",
    "# gnb_model = GaussianNB()\n",
    "# gnb_model.load(\"gnb_model.pkl\")\n",
    "\n",
    "# Make predictions on test set using trained models\n",
    "rf_preds = rf_model.predict(X_test)\n",
    "# if_preds = if_model.predict(test_x)\n",
    "# gnb_preds = gnb_model.predict(test_x)\n",
    "\n",
    "# Calculate evaluation metrics\n",
    "rf_cm = confusion_matrix(y_test, rf_preds)\n",
    "rf_report = classification_report(y_test, rf_preds, output_dict=True)\n",
    "rf_roc_auc = roc_auc_score(y_test, rf_preds)\n",
    "rf_fpr, rf_tpr, _ = roc_curve(y_test, rf_preds)\n",
    "\n",
    "# if_cm = confusion_matrix(test_y, if_preds)\n",
    "# if_report = classification_report(test_y, if_preds, output_dict=True)\n",
    "# if_roc_auc = roc_auc_score(test_y, if_preds)\n",
    "# if_fpr, if_tpr, _ = roc_curve(test_y, if_preds)\n",
    "\n",
    "# gnb_cm = confusion_matrix(test_y, gnb_preds)\n",
    "# gnb_report = classification_report(test_y, gnb_preds, output_dict=True)\n",
    "# gnb_roc_auc = roc_auc_score(test_y, gnb_preds)\n",
    "# gnb_fpr, gnb_tpr, _ = roc_curve(test_y, gnb_preds)\n",
    "\n",
    "# Log metrics in wandb table\n",
    "wandb.init(project=\"fraud-detection-experiment\", entity=\"project-machine-learning\")\n",
    "table = wandb.Table(columns=[\"Model\", \"Recall\", \"Precision\", \"F1\", \"ROC\", \"AUC\"])\n",
    "\n",
    "table.add_data(\"Random Forest\", rf_report[\"1\"][\"recall\"], rf_report[\"1\"][\"precision\"], rf_report[\"1\"][\"f1-score\"], rf_roc_auc, rf_cm[1][1]/(rf_cm[1][1]+rf_cm[0][1]))\n",
    "# table.add_data(\"Isolation Forest\", if_report[\"1\"][\"recall\"], if_report[\"1\"][\"precision\"], if_report[\"1\"][\"f1-score\"], if_roc_auc, if_cm[1][1]/(if_cm[1][1]+if_cm[0][1]))\n",
    "# table.add_data(\"Gaussian Naive Bayes\", gnb_report[\"1\"][\"recall\"], gnb_report[\"1\"][\"precision\"], gnb_report[\"1\"][\"f1-score\"], gnb_roc_auc, gnb_cm[1][1]/(gnb_cm[1][1]+gnb_cm[0][1]))\n",
    "\n",
    "wandb.log({\"metrics\": table})\n",
    "wandb.finish()"
   ]
  },
  {
   "cell_type": "markdown",
   "id": "cf57ab48",
   "metadata": {},
   "source": [
    "Ensemble method"
   ]
  },
  {
   "cell_type": "markdown",
   "id": "5750cbd1",
   "metadata": {},
   "source": [
    "# KNN algorithm"
   ]
  },
  {
   "cell_type": "code",
   "execution_count": null,
   "id": "a64d240e",
   "metadata": {},
   "outputs": [],
   "source": [
    "cdc.tail()"
   ]
  },
  {
   "cell_type": "code",
   "execution_count": null,
   "id": "c82b64da",
   "metadata": {},
   "outputs": [],
   "source": [
    "scaler = StandardScaler()\n",
    "df = cdc.drop(['Class','Time','Amount'], axis = 1)\n",
    "scaler.fit(df)\n",
    "\n",
    "scaled_features = scaler.transform(df)"
   ]
  },
  {
   "cell_type": "code",
   "execution_count": null,
   "id": "631a6384",
   "metadata": {},
   "outputs": [],
   "source": [
    "cdc_feat = pd.DataFrame(scaled_features, columns = cdc.columns[1:-2])"
   ]
  },
  {
   "cell_type": "code",
   "execution_count": null,
   "id": "ccef97a1",
   "metadata": {},
   "outputs": [],
   "source": [
    "X_train, X_test, y_train, y_test = train_test_split(scaled_features,cdc['Class'], test_size = 0.30)"
   ]
  },
  {
   "cell_type": "code",
   "execution_count": null,
   "id": "5867c4d4",
   "metadata": {},
   "outputs": [],
   "source": [
    "knn = KNeighborsClassifier(n_neighbors=1)"
   ]
  },
  {
   "cell_type": "code",
   "execution_count": null,
   "id": "fa2619a0",
   "metadata": {},
   "outputs": [],
   "source": [
    "knn.fit(X_train,y_train)"
   ]
  },
  {
   "cell_type": "code",
   "execution_count": null,
   "id": "5dae3ced",
   "metadata": {},
   "outputs": [],
   "source": [
    "pred = knn.predict(X_test)"
   ]
  },
  {
   "cell_type": "code",
   "execution_count": null,
   "id": "224879e1",
   "metadata": {},
   "outputs": [],
   "source": [
    "print(confusion_matrix(y_test,pred))"
   ]
  },
  {
   "cell_type": "code",
   "execution_count": null,
   "id": "5dc3c29b",
   "metadata": {},
   "outputs": [],
   "source": [
    "print(classification_report(y_test,pred))"
   ]
  },
  {
   "cell_type": "markdown",
   "id": "6b3a9408",
   "metadata": {},
   "source": [
    "# Initial analysis of data"
   ]
  },
  {
   "cell_type": "code",
   "execution_count": null,
   "id": "e50ebc85",
   "metadata": {},
   "outputs": [],
   "source": [
    "# Distribution graphs (histogram/bar graph) of column data\n",
    "def plotPerColumnDistribution(df, nGraphShown, nGraphPerRow):\n",
    "    nunique = df.nunique()\n",
    "    df = df[[col for col in df if nunique[col] > 1 and nunique[col] < 50]] # For displaying purposes, pick columns that have between 1 and 50 unique values\n",
    "    nRow, nCol = df.shape\n",
    "    columnNames = list(df)\n",
    "    nGraphRow = (nCol + nGraphPerRow - 1) / nGraphPerRow\n",
    "    plt.figure(num = None, figsize = (6 * nGraphPerRow, 8 * nGraphRow), dpi = 80, facecolor = 'w', edgecolor = 'k')\n",
    "    for i in range(min(nCol, nGraphShown)):\n",
    "        plt.subplot(nGraphRow, nGraphPerRow, i + 1)\n",
    "        columnDf = df.iloc[:, i]\n",
    "        if (not np.issubdtype(type(columnDf.iloc[0]), np.number)):\n",
    "            valueCounts = columnDf.value_counts()\n",
    "            valueCounts.plot.bar()\n",
    "        else:\n",
    "            columnDf.hist()\n",
    "        plt.ylabel('counts')\n",
    "        plt.xticks(rotation = 90)\n",
    "        plt.title(f'{columnNames[i]} (column {i})')\n",
    "    plt.tight_layout(pad = 1.0, w_pad = 1.0, h_pad = 1.0)\n",
    "    plt.show()"
   ]
  },
  {
   "cell_type": "code",
   "execution_count": null,
   "id": "29a14231",
   "metadata": {},
   "outputs": [],
   "source": [
    "# Correlation matrix\n",
    "def plotCorrelationMatrix(df, graphWidth):\n",
    "    filename = df.dataframeName\n",
    "    df = df.dropna('columns') # drop columns with NaN\n",
    "    df = df[[col for col in df if df[col].nunique() > 1]] # keep columns where there are more than 1 unique values\n",
    "    if df.shape[1] < 2:\n",
    "        print(f'No correlation plots shown: The number of non-NaN or constant columns ({df.shape[1]}) is less than 2')\n",
    "        return\n",
    "    corr = df.corr()\n",
    "    plt.figure(num=None, figsize=(graphWidth, graphWidth), dpi=80, facecolor='w', edgecolor='k')\n",
    "    corrMat = plt.matshow(corr, fignum = 1)\n",
    "    plt.xticks(range(len(corr.columns)), corr.columns, rotation=90)\n",
    "    plt.yticks(range(len(corr.columns)), corr.columns)\n",
    "    plt.gca().xaxis.tick_bottom()\n",
    "    plt.colorbar(corrMat)\n",
    "    plt.title(f'Correlation Matrix for {filename}', fontsize=15)\n",
    "    plt.savefig(\"plots/correlation_matrix.png\", dpi=300)\n",
    "    plt.show()"
   ]
  },
  {
   "cell_type": "code",
   "execution_count": null,
   "id": "1bdace01",
   "metadata": {},
   "outputs": [],
   "source": [
    "# Scatter and density plots\n",
    "def plotScatterMatrix(df, plotSize, textSize):\n",
    "    df = df.select_dtypes(include =[np.number]) # keep only numerical columns\n",
    "    # Remove rows and columns that would lead to df being singular\n",
    "    df = df.dropna('columns')\n",
    "    df = df[[col for col in df if df[col].nunique() > 1]] # keep columns where there are more than 1 unique values\n",
    "    columnNames = list(df)\n",
    "    if len(columnNames) > 10: # reduce the number of columns for matrix inversion of kernel density plots\n",
    "        columnNames = columnNames[:10]\n",
    "    df = df[columnNames]\n",
    "    ax = pd.plotting.scatter_matrix(df, alpha=0.75, figsize=[plotSize, plotSize], diagonal='kde')\n",
    "    corrs = df.corr().values\n",
    "    for i, j in zip(*plt.np.triu_indices_from(ax, k = 1)):\n",
    "        ax[i, j].annotate('Corr. coef = %.3f' % corrs[i, j], (0.8, 0.2), xycoords='axes fraction', ha='center', va='center', size=textSize)\n",
    "    plt.suptitle('Scatter and Density Plot')\n",
    "    plt.savefig(\"plots/scatter_matrix.png\", dpi=300)\n",
    "    plt.show()"
   ]
  },
  {
   "cell_type": "code",
   "execution_count": null,
   "id": "7f8c16f5",
   "metadata": {},
   "outputs": [],
   "source": [
    "nRowsRead = 1000\n",
    "df1 = pd.read_csv('../project-data/creditcard.csv', delimiter=',', nrows = nRowsRead)\n",
    "df1.dataframeName = 'creditcard.csv'\n",
    "nRow, nCol = df1.shape\n",
    "print(f'There are {nRow} rows and {nCol} columns')"
   ]
  },
  {
   "cell_type": "code",
   "execution_count": null,
   "id": "a10fba03",
   "metadata": {},
   "outputs": [],
   "source": [
    "plotCorrelationMatrix(df1, 8)"
   ]
  },
  {
   "cell_type": "code",
   "execution_count": null,
   "id": "deeb04b6",
   "metadata": {},
   "outputs": [],
   "source": [
    "fig = plotScatterMatrix(df1, 20, 10)"
   ]
  },
  {
   "cell_type": "code",
   "execution_count": null,
   "id": "91569774",
   "metadata": {},
   "outputs": [],
   "source": [
    "figure = sns.scatterplot(x=\"Amount\",y=\"V1\", data=df1)\n",
    "figure.set(title = \"Example of one user\")\n",
    "# figure.figure.savefig(\"plots/test.png\", dpi = 150)"
   ]
  },
  {
   "cell_type": "code",
   "execution_count": null,
   "id": "b201fde4",
   "metadata": {},
   "outputs": [],
   "source": []
  }
 ],
 "metadata": {
  "kernelspec": {
   "display_name": "Python 3 (ipykernel)",
   "language": "python",
   "name": "python3"
  },
  "language_info": {
   "codemirror_mode": {
    "name": "ipython",
    "version": 3
   },
   "file_extension": ".py",
   "mimetype": "text/x-python",
   "name": "python",
   "nbconvert_exporter": "python",
   "pygments_lexer": "ipython3",
   "version": "3.10.2"
  },
  "vscode": {
   "interpreter": {
    "hash": "6ccc0ca3d3a118cd478a36f8e98c2cc559f6842a54a8b33d8b6108eca7d42ff6"
   }
  }
 },
 "nbformat": 4,
 "nbformat_minor": 5
}
